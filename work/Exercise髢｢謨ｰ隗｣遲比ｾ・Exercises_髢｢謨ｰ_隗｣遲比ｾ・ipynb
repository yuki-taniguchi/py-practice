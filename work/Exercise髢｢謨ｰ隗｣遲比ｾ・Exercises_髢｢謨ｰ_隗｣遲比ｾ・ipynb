{
 "cells": [
  {
   "cell_type": "markdown",
   "metadata": {},
   "source": [
    "## Exercises -関数-"
   ]
  },
  {
   "cell_type": "markdown",
   "metadata": {},
   "source": [
    "Q: リストを引数にして，各要素に，'_<その要素のindex番号>.png'を付けたリストを返す関数"
   ]
  },
  {
   "cell_type": "code",
   "execution_count": 1,
   "metadata": {},
   "outputs": [],
   "source": [
    "# 例1\n",
    "def add_png(filename_list):\n",
    "    \"\"\"\n",
    "    各要素に，'_<その要素のindex番号>.png'を付けたリストを返す\n",
    "    \n",
    "    Parameters\n",
    "    -----------------\n",
    "        filename_list: ファイル名のリスト\n",
    "    \n",
    "    Return\n",
    "    -----------------\n",
    "        result_list: filename_listの各要素に，'_<その要素のindex番号>.png'を付けたリスト\n",
    "    \"\"\"\n",
    "    \n",
    "    result_list = []\n",
    "    for idx, filename in enumerate(filename_list):\n",
    "        result_list.append('{}_{}{}'.format(filename, idx, '.png'))\n",
    "    \n",
    "    return result_list"
   ]
  },
  {
   "cell_type": "code",
   "execution_count": 2,
   "metadata": {},
   "outputs": [
    {
     "data": {
      "text/plain": [
       "['filename1_0.png', 'filename2_1.png', 'filename3_2.png']"
      ]
     },
     "execution_count": 2,
     "metadata": {},
     "output_type": "execute_result"
    }
   ],
   "source": [
    "#　ちゃんと動くことを確認\n",
    "filename_list = ['filename1', 'filename2', 'filename3']\n",
    "add_png(filename_list)"
   ]
  },
  {
   "cell_type": "code",
   "execution_count": 3,
   "metadata": {},
   "outputs": [],
   "source": [
    "# 例2　リスト内包表記を使う\n",
    "def add_png(filename_list):\n",
    "    \"\"\"\n",
    "    各要素に，'_<その要素のindex番号>.png'を付けたリストを返す\n",
    "    \n",
    "    Parameters\n",
    "    -----------------\n",
    "        filename_list: ファイル名のリスト\n",
    "    \n",
    "    Return\n",
    "    -----------------\n",
    "        result_list: filename_listの各要素に，'_<その要素のindex番号>.png'を付けたリスト\n",
    "    \"\"\"\n",
    "    return ['{}_{}{}'.format(filename, idx, '.png') for idx, filename in enumerate(filename_list)]"
   ]
  },
  {
   "cell_type": "code",
   "execution_count": 4,
   "metadata": {},
   "outputs": [
    {
     "data": {
      "text/plain": [
       "['filename1_0.png', 'filename2_1.png', 'filename3_2.png']"
      ]
     },
     "execution_count": 4,
     "metadata": {},
     "output_type": "execute_result"
    }
   ],
   "source": [
    "#　ちゃんと動くことを確認\n",
    "filename_list = ['filename1', 'filename2', 'filename3']\n",
    "add_png(filename_list)"
   ]
  },
  {
   "cell_type": "code",
   "execution_count": 5,
   "metadata": {},
   "outputs": [],
   "source": [
    "# 例3　もっと汎用的なものにする\n",
    "# .pngを引数にする\n",
    "def add_extention(filename_list, extension='.png'):\n",
    "    \"\"\"\n",
    "    各要素に，'_<その要素のindex番号><extension>'を付けたリストを返す\n",
    "    \n",
    "    Parameters\n",
    "    -----------------\n",
    "        filename_list: ファイル名のリスト\n",
    "        extension: 拡張子\n",
    "    \n",
    "    Return\n",
    "    -----------------\n",
    "        result_list: filename_listの各要素に，'_<その要素のindex番号><extension>'を付けたリスト\n",
    "    \"\"\"\n",
    "    return ['{}_{}{}'.format(filename, idx, extension) for idx, filename in enumerate(filename_list)]\n"
   ]
  },
  {
   "cell_type": "code",
   "execution_count": 6,
   "metadata": {},
   "outputs": [
    {
     "data": {
      "text/plain": [
       "['filename1_0.png', 'filename2_1.png', 'filename3_2.png']"
      ]
     },
     "execution_count": 6,
     "metadata": {},
     "output_type": "execute_result"
    }
   ],
   "source": [
    "# '.png'はデフォルトなので指定しなくてOK\n",
    "filename_list = ['filename1', 'filename2', 'filename3']\n",
    "add_extention(filename_list)"
   ]
  },
  {
   "cell_type": "code",
   "execution_count": 7,
   "metadata": {},
   "outputs": [
    {
     "data": {
      "text/plain": [
       "['filename1_0.jpg', 'filename2_1.jpg', 'filename3_2.jpg']"
      ]
     },
     "execution_count": 7,
     "metadata": {},
     "output_type": "execute_result"
    }
   ],
   "source": [
    "# '.jpg'でも同じ関数を使える\n",
    "add_extention(filename_list, '.jpg')"
   ]
  }
 ],
 "metadata": {
  "kernelspec": {
   "display_name": "Python 3",
   "language": "python",
   "name": "python3"
  },
  "language_info": {
   "codemirror_mode": {
    "name": "ipython",
    "version": 3
   },
   "file_extension": ".py",
   "mimetype": "text/x-python",
   "name": "python",
   "nbconvert_exporter": "python",
   "pygments_lexer": "ipython3",
   "version": "3.7.6"
  }
 },
 "nbformat": 4,
 "nbformat_minor": 4
}
